{
 "cells": [
  {
   "cell_type": "code",
   "execution_count": 1,
   "metadata": {},
   "outputs": [],
   "source": [
    "from model.ffnn2 import FFNN2\n",
    "\n",
    "from view.gui import GUI, GraphModel\n",
    "from PyQt6.QtWidgets import QApplication\n",
    "import sys\n",
    "import numpy as np\n",
    "import os\n",
    "from sklearn.datasets import fetch_openml\n",
    "from sklearn.model_selection import train_test_split\n",
    "from sklearn.preprocessing import OneHotEncoder\n",
    "from sklearn.metrics import f1_score, accuracy_score\n",
    "import time\n",
    "\n",
    "MODEL_FILENAME = \"ffnn_model.pkl\""
   ]
  },
  {
   "cell_type": "code",
   "execution_count": 2,
   "metadata": {},
   "outputs": [
    {
     "name": "stdout",
     "output_type": "stream",
     "text": [
      "Model berhasil dimuat dari ffnn_model.pkl\n"
     ]
    }
   ],
   "source": [
    "train_samples = 5000\n",
    "\n",
    "# Inisialisasi model\n",
    "model = FFNN2(\n",
    "    jumlah_neuron=[784, 128, 64, 64, 10],\n",
    "    fungsi_aktivasi=[\"ReLU\", \"ReLU\", \"ReLU\", \"Softmax\"],\n",
    "    fungsi_loss=\"CategoricalCrossEntropy\",\n",
    "    inisialisasi_bobot=\"xavier-normal\",\n",
    "    seed=123123,\n",
    "    lower_bound=-1,\n",
    "    upper_bound=1,\n",
    "    mean=0,\n",
    "    std=1,\n",
    "    verbose=1,\n",
    ")\n",
    "\n",
    "# Cek apakah model sudah ada\n",
    "if os.path.exists(MODEL_FILENAME):\n",
    "    model = FFNN2.load_model_pickle(model, MODEL_FILENAME) # Load model dari file\n",
    "    train_needed = False\n",
    "else:\n",
    "    train_needed = True"
   ]
  },
  {
   "cell_type": "code",
   "execution_count": 3,
   "metadata": {},
   "outputs": [],
   "source": [
    "# Train or load\n",
    "\n",
    "# Load MNIST dataset\n",
    "X, y = fetch_openml(\"mnist_784\", version=1, return_X_y=True, as_frame=False)\n",
    "X = X / 255.0\n",
    "X_train, X_test, y_train, y_test = train_test_split(\n",
    "    X, y, train_size=5000, test_size=10000, random_state=123123\n",
    ")\n",
    "\n",
    "# One-Hot Encoding\n",
    "encoder = OneHotEncoder(sparse_output=False)\n",
    "y_train = encoder.fit_transform(y_train.reshape(-1, 1))\n",
    "y_test = encoder.transform(y_test.reshape(-1, 1))\n",
    "\n",
    "if train_needed:\n",
    "    # Catat waktu mulai training\n",
    "    start_time = time.time()\n",
    "\n",
    "    # Training model\n",
    "    model.fit(X=X_train, y=y_train, batch=100, lr=0.1, epochs=500)\n",
    "\n",
    "    # Catat waktu selesai training\n",
    "    end_time = time.time()\n",
    "    print(f\"Training time: {end_time - start_time:.2f} seconds\")\n",
    "\n",
    "    # Simpan model setelah training\n",
    "    model.save_model_pickle(MODEL_FILENAME)"
   ]
  },
  {
   "cell_type": "code",
   "execution_count": 4,
   "metadata": {},
   "outputs": [
    {
     "name": "stdout",
     "output_type": "stream",
     "text": [
      "Model F1-Score: 0.9237\n",
      "Model Accuracy: 0.9247\n"
     ]
    }
   ],
   "source": [
    "# Prediksi\n",
    "pred = model.predict(X_test)\n",
    "\n",
    "# Konversi y_test dari one-hot encoding ke label asli\n",
    "y_test_labels = np.argmax(y_test, axis=1)\n",
    "\n",
    "# Hitung F1-score\n",
    "model_f1 = f1_score(y_test_labels, pred, average=\"macro\")\n",
    "print(f\"Model F1-Score: {model_f1:.4f}\")\n",
    "\n",
    "# Hitung Accuracy\n",
    "model_accuracy = accuracy_score(y_test_labels, pred)\n",
    "print(f\"Model Accuracy: {model_accuracy:.4f}\")"
   ]
  },
  {
   "cell_type": "code",
   "execution_count": 5,
   "metadata": {},
   "outputs": [],
   "source": [
    "# Loop GUI dengan perintah ini\n",
    "%gui qt"
   ]
  },
  {
   "cell_type": "code",
   "execution_count": 6,
   "metadata": {},
   "outputs": [
    {
     "ename": "TypeError",
     "evalue": "QWidget(parent: Optional[QWidget] = None, flags: Qt.WindowType = Qt.WindowFlags()): argument 1 has unexpected type 'str'",
     "output_type": "error",
     "traceback": [
      "\u001b[31m---------------------------------------------------------------------------\u001b[39m",
      "\u001b[31mTypeError\u001b[39m                                 Traceback (most recent call last)",
      "\u001b[36mCell\u001b[39m\u001b[36m \u001b[39m\u001b[32mIn[6]\u001b[39m\u001b[32m, line 9\u001b[39m\n\u001b[32m      7\u001b[39m \u001b[38;5;28;01mif\u001b[39;00m app \u001b[38;5;129;01mis\u001b[39;00m \u001b[38;5;28;01mNone\u001b[39;00m:\n\u001b[32m      8\u001b[39m     app = QApplication(sys.argv)\n\u001b[32m----> \u001b[39m\u001b[32m9\u001b[39m gui = \u001b[43mGUI\u001b[49m\u001b[43m(\u001b[49m\u001b[43mgraph_model\u001b[49m\u001b[43m,\u001b[49m\u001b[43m \u001b[49m\u001b[43mlayer_distribution_input\u001b[49m\u001b[43m)\u001b[49m\n\u001b[32m     10\u001b[39m gui.show()\n",
      "\u001b[36mFile \u001b[39m\u001b[32m~/Documents/VSCode/ML/FFNN-from-scratch/src/view/gui.py:56\u001b[39m, in \u001b[36mGUI.__init__\u001b[39m\u001b[34m(self, graph_model, selected_distribution_layer)\u001b[39m\n\u001b[32m     52\u001b[39m \u001b[38;5;28mself\u001b[39m.tab_widget.addTab(GraphWidget(graph_model), \u001b[33m\"\u001b[39m\u001b[33mGraph Structure\u001b[39m\u001b[33m\"\u001b[39m)\n\u001b[32m     54\u001b[39m \u001b[38;5;66;03m# Weight Distribution\u001b[39;00m\n\u001b[32m     55\u001b[39m \u001b[38;5;28mself\u001b[39m.tab_widget.addTab(\n\u001b[32m---> \u001b[39m\u001b[32m56\u001b[39m     \u001b[43mDistributionTabs\u001b[49m\u001b[43m.\u001b[49m\u001b[43mCreateWeightDistribution\u001b[49m\u001b[43m(\u001b[49m\u001b[43mgraph_model\u001b[49m\u001b[43m,\u001b[49m\u001b[43m \u001b[49m\u001b[43mselected_distribution_layer\u001b[49m\u001b[43m)\u001b[49m,\n\u001b[32m     57\u001b[39m     \u001b[33m\"\u001b[39m\u001b[33mWeight Distribution\u001b[39m\u001b[33m\"\u001b[39m,\n\u001b[32m     58\u001b[39m )\n\u001b[32m     60\u001b[39m \u001b[38;5;66;03m# Gradient Weight Distribution\u001b[39;00m\n\u001b[32m     61\u001b[39m \u001b[38;5;28mself\u001b[39m.tab_widget.addTab(DistributionTabs.CreateGradientWeightDistribution(graph_model, selected_distribution_layer), \u001b[33m\"\u001b[39m\u001b[33mGradient Weight Distribution\u001b[39m\u001b[33m\"\u001b[39m)\n",
      "\u001b[36mFile \u001b[39m\u001b[32m~/Documents/VSCode/ML/FFNN-from-scratch/src/view/distributionTabs.py:20\u001b[39m, in \u001b[36mDistributionTabs.CreateWeightDistribution\u001b[39m\u001b[34m(cls, graph_model, layer_selected, parent)\u001b[39m\n\u001b[32m     18\u001b[39m dist.addTab(SinglePlotDistribution.WeightDistribution(graph_model, layer_selected, \u001b[33m'\u001b[39m\u001b[33mgaussian\u001b[39m\u001b[33m'\u001b[39m), \u001b[33m\"\u001b[39m\u001b[33mGaussian (Combined)\u001b[39m\u001b[33m\"\u001b[39m)\n\u001b[32m     19\u001b[39m dist.addTab(SinglePlotDistribution.WeightDistribution(graph_model, layer_selected, \u001b[33m'\u001b[39m\u001b[33mscatter\u001b[39m\u001b[33m'\u001b[39m), \u001b[33m\"\u001b[39m\u001b[33mScatter (Combined)\u001b[39m\u001b[33m\"\u001b[39m)\n\u001b[32m---> \u001b[39m\u001b[32m20\u001b[39m dist.addTab(\u001b[43mMultiPlotDistribution\u001b[49m\u001b[43m.\u001b[49m\u001b[43mWeightDistribution\u001b[49m\u001b[43m(\u001b[49m\u001b[43mgraph_model\u001b[49m\u001b[43m,\u001b[49m\u001b[43mlayer_selected\u001b[49m\u001b[43m,\u001b[49m\u001b[43m \u001b[49m\u001b[33;43m\"\u001b[39;49m\u001b[33;43mhistogram\u001b[39;49m\u001b[33;43m\"\u001b[39;49m\u001b[43m)\u001b[49m, \u001b[33m\"\u001b[39m\u001b[33mHistogram (Single)\u001b[39m\u001b[33m\"\u001b[39m)\n\u001b[32m     21\u001b[39m dist.addTab(MultiPlotDistribution.WeightDistribution(graph_model, layer_selected,\u001b[33m\"\u001b[39m\u001b[33mgaussian\u001b[39m\u001b[33m\"\u001b[39m), \u001b[33m\"\u001b[39m\u001b[33mGaussian (Single)\u001b[39m\u001b[33m\"\u001b[39m)\n\u001b[32m     22\u001b[39m dist.addTab(MultiPlotDistribution.WeightDistribution(graph_model, layer_selected,\u001b[33m\"\u001b[39m\u001b[33mscatter\u001b[39m\u001b[33m\"\u001b[39m), \u001b[33m\"\u001b[39m\u001b[33mScatter (Single)\u001b[39m\u001b[33m\"\u001b[39m)\n",
      "\u001b[36mFile \u001b[39m\u001b[32m~/Documents/VSCode/ML/FFNN-from-scratch/src/view/layersDistribution.py:172\u001b[39m, in \u001b[36mMultiPlotDistribution.WeightDistribution\u001b[39m\u001b[34m(cls, graph_model, layer_index_list, distribution_mode, parent)\u001b[39m\n\u001b[32m    169\u001b[39m         data = graph_model.weights[idx]\n\u001b[32m    170\u001b[39m         layers_data.append((idx,data))\n\u001b[32m--> \u001b[39m\u001b[32m172\u001b[39m layer_dist = \u001b[38;5;28;43mcls\u001b[39;49m\u001b[43m(\u001b[49m\u001b[43mlayers_data\u001b[49m\u001b[43m,\u001b[49m\u001b[43m \u001b[49m\u001b[43mdistribution_mode\u001b[49m\u001b[43m,\u001b[49m\u001b[33;43m\"\u001b[39;49m\u001b[33;43mWeight Value\u001b[39;49m\u001b[33;43m\"\u001b[39;49m\u001b[43m,\u001b[49m\u001b[43m \u001b[49m\u001b[43mparent\u001b[49m\u001b[43m)\u001b[49m\n\u001b[32m    173\u001b[39m \u001b[38;5;28;01mreturn\u001b[39;00m layer_dist\n",
      "\u001b[36mFile \u001b[39m\u001b[32m~/Documents/VSCode/ML/FFNN-from-scratch/src/view/layersDistribution.py:145\u001b[39m, in \u001b[36mMultiPlotDistribution.__init__\u001b[39m\u001b[34m(self, layer_data, distribution_mode, parent, x_label)\u001b[39m\n\u001b[32m    138\u001b[39m \u001b[38;5;28;01mdef\u001b[39;00m\u001b[38;5;250m \u001b[39m\u001b[34m__init__\u001b[39m(\u001b[38;5;28mself\u001b[39m, layer_data: \u001b[38;5;28mlist\u001b[39m[\u001b[38;5;28mtuple\u001b[39m[\u001b[38;5;28mint\u001b[39m, np.ndarray]], distribution_mode: \u001b[38;5;28mstr\u001b[39m = \u001b[33m'\u001b[39m\u001b[33mgaussian\u001b[39m\u001b[33m'\u001b[39m, parent=\u001b[38;5;28;01mNone\u001b[39;00m, x_label = \u001b[33m\"\u001b[39m\u001b[33mWeight Label\u001b[39m\u001b[33m\"\u001b[39m):\n\u001b[32m    139\u001b[39m \u001b[38;5;250m    \u001b[39m\u001b[33;03m\"\"\"\u001b[39;00m\n\u001b[32m    140\u001b[39m \u001b[33;03m    This class is just combining Multiple SinglePlotDistribution that each layer get it's own Graph\u001b[39;00m\n\u001b[32m    141\u001b[39m \u001b[33;03m    Parameters:\u001b[39;00m\n\u001b[32m    142\u001b[39m \u001b[33;03m      - layer_data: List of tuples (layer_index, data)\u001b[39;00m\n\u001b[32m    143\u001b[39m \u001b[33;03m      = distribution_mode: Distribution mode for each plot ('gaussian', 'histogram', or 'scatter')\u001b[39;00m\n\u001b[32m    144\u001b[39m \u001b[33;03m    \"\"\"\u001b[39;00m\n\u001b[32m--> \u001b[39m\u001b[32m145\u001b[39m     \u001b[38;5;28;43msuper\u001b[39;49m\u001b[43m(\u001b[49m\u001b[43m)\u001b[49m\u001b[43m.\u001b[49m\u001b[34;43m__init__\u001b[39;49m\u001b[43m(\u001b[49m\u001b[43mparent\u001b[49m\u001b[43m)\u001b[49m\n\u001b[32m    146\u001b[39m     \u001b[38;5;28mself\u001b[39m.setWindowTitle(\u001b[33m\"\u001b[39m\u001b[33mMulti-Layer Distribution\u001b[39m\u001b[33m\"\u001b[39m)\n\u001b[32m    147\u001b[39m     \u001b[38;5;28mself\u001b[39m.distribution_mode = distribution_mode.lower()\n",
      "\u001b[31mTypeError\u001b[39m: QWidget(parent: Optional[QWidget] = None, flags: Qt.WindowType = Qt.WindowFlags()): argument 1 has unexpected type 'str'"
     ]
    }
   ],
   "source": [
    "# Visualize model\n",
    "graph_model = GraphModel(\n",
    "    model.jumlah_neuron, model.bobot, model.gradients\n",
    ")\n",
    "layer_distribution_input = [0,1,2,3]\n",
    "app = QApplication.instance()\n",
    "if app is None:\n",
    "    app = QApplication(sys.argv)\n",
    "gui = GUI(graph_model, layer_distribution_input)\n",
    "gui.show()"
   ]
  }
 ],
 "metadata": {
  "kernelspec": {
   "display_name": "venv",
   "language": "python",
   "name": "python3"
  },
  "language_info": {
   "codemirror_mode": {
    "name": "ipython",
    "version": 3
   },
   "file_extension": ".py",
   "mimetype": "text/x-python",
   "name": "python",
   "nbconvert_exporter": "python",
   "pygments_lexer": "ipython3",
   "version": "3.12.7"
  }
 },
 "nbformat": 4,
 "nbformat_minor": 2
}
