{
 "cells": [
  {
   "cell_type": "code",
   "execution_count": 1,
   "metadata": {},
   "outputs": [],
   "source": [
    "from model.ffnn import FFNN\n",
    "\n",
    "import numpy as np\n",
    "from sklearn.datasets import fetch_openml\n",
    "from sklearn.model_selection import train_test_split\n",
    "from sklearn.preprocessing import OneHotEncoder\n",
    "from sklearn.metrics import f1_score, accuracy_score\n",
    "import time, sys, os\n",
    "\n",
    "from view.gui import GUI, GraphModel\n",
    "from PyQt6.QtWidgets import QApplication\n",
    "\n",
    "MODEL_FILENAME = \"ffnn_model.pkl\""
   ]
  },
  {
   "cell_type": "code",
   "execution_count": 2,
   "metadata": {},
   "outputs": [
    {
     "name": "stdout",
     "output_type": "stream",
     "text": [
      "Model berhasil dimuat dari ffnn_model.pkl\n"
     ]
    }
   ],
   "source": [
    "train_samples = 5000\n",
    "\n",
    "# Inisialisasi model\n",
    "model = FFNN(\n",
    "    jumlah_neuron=[784, 128, 64, 64, 10],\n",
    "    fungsi_aktivasi=[\"ReLU\", \"ReLU\", \"ReLU\", \"Softmax\"],\n",
    "    fungsi_loss=\"CategoricalCrossEntropy\",\n",
    "    inisialisasi_bobot=\"xavier-normal\",\n",
    "    seed=123123,\n",
    "    lower_bound=-1,\n",
    "    upper_bound=1,\n",
    "    mean=0,\n",
    "    std=1,\n",
    "    verbose=1,\n",
    ")\n",
    "\n",
    "# Cek apakah model sudah ada\n",
    "if os.path.exists(MODEL_FILENAME):\n",
    "    model = FFNN.load_model_pickle(model, MODEL_FILENAME) # Load model dari file\n",
    "    train_needed = False\n",
    "else:\n",
    "    train_needed = True"
   ]
  },
  {
   "cell_type": "code",
   "execution_count": 3,
   "metadata": {},
   "outputs": [],
   "source": [
    "# Train or load\n",
    "\n",
    "# Load MNIST dataset\n",
    "X, y = fetch_openml(\"mnist_784\", version=1, return_X_y=True, as_frame=False)\n",
    "X = X / 255.0\n",
    "X_train, X_test, y_train, y_test = train_test_split(\n",
    "    X, y, train_size=5000, test_size=10000, random_state=123123\n",
    ")\n",
    "\n",
    "# One-Hot Encoding\n",
    "encoder = OneHotEncoder(sparse_output=False)\n",
    "y_train = encoder.fit_transform(y_train.reshape(-1, 1))\n",
    "y_test = encoder.transform(y_test.reshape(-1, 1))\n",
    "\n",
    "if train_needed:\n",
    "    # Catat waktu mulai training\n",
    "    start_time = time.time()\n",
    "\n",
    "    # Training model\n",
    "    model.fit(X=X_train, y=y_train, batch=100, lr=0.1, epochs=500)\n",
    "\n",
    "    # Catat waktu selesai training\n",
    "    end_time = time.time()\n",
    "    print(f\"Training time: {end_time - start_time:.2f} seconds\")\n",
    "\n",
    "    # Simpan model setelah training\n",
    "    model.save_model_pickle(MODEL_FILENAME)"
   ]
  },
  {
   "cell_type": "code",
   "execution_count": 4,
   "metadata": {},
   "outputs": [
    {
     "name": "stdout",
     "output_type": "stream",
     "text": [
      "Model F1-Score: 0.9240\n",
      "Model Accuracy: 0.9250\n"
     ]
    }
   ],
   "source": [
    "# Prediksi\n",
    "pred = model.predict(X_test)\n",
    "\n",
    "# Konversi y_test dari one-hot encoding ke label asli\n",
    "y_test_labels = np.argmax(y_test, axis=1)\n",
    "\n",
    "# Hitung F1-score\n",
    "model_f1 = f1_score(y_test_labels, pred, average=\"macro\")\n",
    "print(f\"Model F1-Score: {model_f1:.4f}\")\n",
    "\n",
    "# Hitung Accuracy\n",
    "model_accuracy = accuracy_score(y_test_labels, pred)\n",
    "print(f\"Model Accuracy: {model_accuracy:.4f}\")"
   ]
  },
  {
   "cell_type": "code",
   "execution_count": 5,
   "metadata": {},
   "outputs": [],
   "source": [
    "# Loop GUI dengan perintah ini\n",
    "%gui qt"
   ]
  },
  {
   "cell_type": "code",
   "execution_count": 6,
   "metadata": {},
   "outputs": [
    {
     "name": "stderr",
     "output_type": "stream",
     "text": [
      "2025-03-28 10:02:29.778 Python[17507:101993] +[IMKClient subclass]: chose IMKClient_Modern\n",
      "2025-03-28 10:02:29.778 Python[17507:101993] +[IMKInputSession subclass]: chose IMKInputSession_Modern\n"
     ]
    }
   ],
   "source": [
    "# Visualize model\n",
    "gui = model.model_visualize()\n",
    "gui.show()"
   ]
  }
 ],
 "metadata": {
  "kernelspec": {
   "display_name": "venv",
   "language": "python",
   "name": "python3"
  },
  "language_info": {
   "codemirror_mode": {
    "name": "ipython",
    "version": 3
   },
   "file_extension": ".py",
   "mimetype": "text/x-python",
   "name": "python",
   "nbconvert_exporter": "python",
   "pygments_lexer": "ipython3",
   "version": "3.12.7"
  }
 },
 "nbformat": 4,
 "nbformat_minor": 2
}
